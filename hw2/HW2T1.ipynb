{
 "cells": [
  {
   "cell_type": "code",
   "execution_count": 1,
   "metadata": {},
   "outputs": [],
   "source": [
    "import numpy as np\n",
    "import random\n",
    "import copy\n",
    "import matplotlib.pyplot as plt\n",
    "from sklearn.linear_model import LinearRegression\n",
    "from scipy.integrate import quad"
   ]
  },
  {
   "cell_type": "markdown",
   "metadata": {},
   "source": [
    "## Выборка"
   ]
  },
  {
   "cell_type": "code",
   "execution_count": 2,
   "metadata": {},
   "outputs": [],
   "source": [
    "n = 50\n",
    "p = 6\n",
    "ksi = np.zeros((n, p-1))    # матрица наблюдений без 1\n",
    "\n",
    "for i in range(n):\n",
    "    ksi[i] = np.random.uniform(-1,1, p-1)"
   ]
  },
  {
   "cell_type": "code",
   "execution_count": 3,
   "metadata": {
    "scrolled": true
   },
   "outputs": [
    {
     "data": {
      "text/plain": [
       "array([[ 0.4218707 , -0.01490294,  0.21761947,  0.68982394, -0.34001218],\n",
       "       [-0.6356308 , -0.34664399,  0.86661355,  0.21204861, -0.69966917],\n",
       "       [-0.95837708, -0.23977662, -0.38830248, -0.26502104,  0.57542505],\n",
       "       [ 0.81707281,  0.53013904,  0.22061882, -0.52381073,  0.61104861],\n",
       "       [ 0.202702  ,  0.16513936,  0.68059709,  0.36868823, -0.01326632],\n",
       "       [-0.38226365,  0.07184435, -0.2669517 ,  0.08687917,  0.68796597],\n",
       "       [-0.3831415 , -0.79470417,  0.28139012,  0.13985929, -0.04267765],\n",
       "       [-0.19308998, -0.56295253, -0.95729492, -0.98940746,  0.53191273],\n",
       "       [ 0.29162405,  0.19656449, -0.1846056 ,  0.34147724, -0.40407968],\n",
       "       [ 0.05602613,  0.74934011, -0.57545717,  0.58658561, -0.16166639],\n",
       "       [-0.65116575,  0.11237403, -0.75690734,  0.19796884, -0.58288698],\n",
       "       [-0.10539435,  0.3640714 , -0.30789693,  0.63672038, -0.82800694],\n",
       "       [-0.72900954,  0.87590991,  0.64143512, -0.38169991, -0.17820813],\n",
       "       [ 0.79659163, -0.52007375,  0.94182218,  0.09697907, -0.767469  ],\n",
       "       [-0.3008469 ,  0.97440023, -0.41142743,  0.32350098, -0.24802227],\n",
       "       [ 0.97901145, -0.78762822, -0.09090395,  0.32868932, -0.45240862],\n",
       "       [ 0.30355081,  0.10944878,  0.77891713,  0.91292145, -0.18355052],\n",
       "       [ 0.15853633, -0.81032831,  0.31427854, -0.94323544, -0.17021451],\n",
       "       [ 0.96558822, -0.14192611,  0.57469906, -0.53234504, -0.44028982],\n",
       "       [ 0.90076278, -0.03091497, -0.05602816,  0.84376848,  0.85511097],\n",
       "       [ 0.39021919,  0.24880136,  0.22640082, -0.87246217,  0.84525561],\n",
       "       [ 0.1944741 ,  0.27536461, -0.27413357, -0.31896847,  0.64583025],\n",
       "       [ 0.09362404, -0.81625533,  0.26559274,  0.48049625,  0.86417407],\n",
       "       [ 0.40216927,  0.71572949,  0.22815462,  0.39175205,  0.14266968],\n",
       "       [-0.77523801, -0.5416286 ,  0.49065882, -0.54750678, -0.72285089],\n",
       "       [ 0.94991753,  0.04925099,  0.45382131,  0.4439475 ,  0.72364874],\n",
       "       [-0.16717064, -0.30076486,  0.18007943,  0.14113174, -0.83073036],\n",
       "       [ 0.60215626, -0.18179286,  0.74709982,  0.32888847,  0.32205122],\n",
       "       [ 0.12947235, -0.07838851, -0.97124636, -0.95340849,  0.04242939],\n",
       "       [-0.81108714,  0.14218265,  0.58726615,  0.13497191, -0.79094108],\n",
       "       [-0.2497278 ,  0.57430769,  0.55338669,  0.01782639, -0.43230219],\n",
       "       [-0.18781391, -0.12990946, -0.1295844 , -0.42825625, -0.7762217 ],\n",
       "       [ 0.94007547,  0.72214991, -0.15991697, -0.45232484, -0.7710071 ],\n",
       "       [ 0.57652652,  0.95575431,  0.17167221,  0.73779037, -0.38417867],\n",
       "       [-0.8275824 ,  0.14714043, -0.16824184, -0.66782658, -0.17319131],\n",
       "       [-0.79774516, -0.50344045, -0.39759072,  0.54495845, -0.56321352],\n",
       "       [-0.85147139, -0.26766969,  0.32684889,  0.86475691,  0.83094921],\n",
       "       [ 0.04027789,  0.32685379,  0.27926719, -0.11551917, -0.40199247],\n",
       "       [ 0.48977798,  0.50127178,  0.25657689,  0.90577148, -0.63241734],\n",
       "       [ 0.79548838,  0.00670399,  0.99192093,  0.00944042,  0.13531965],\n",
       "       [-0.61263297, -0.65958058,  0.66013596, -0.73071891, -0.17901162],\n",
       "       [-0.60976706,  0.48472762, -0.21733704,  0.45942366,  0.05373699],\n",
       "       [-0.68455211, -0.39610669, -0.19208417,  0.24584214,  0.10477078],\n",
       "       [-0.64419423, -0.59140091,  0.7630522 , -0.16624431,  0.20780471],\n",
       "       [ 0.46108895,  0.17706505, -0.65276738, -0.60257225, -0.41843965],\n",
       "       [-0.56799135, -0.33372574, -0.35771772, -0.92898005,  0.00788097],\n",
       "       [ 0.24945791,  0.49719424,  0.7032129 , -0.16970962,  0.64268673],\n",
       "       [-0.08691873,  0.43710201,  0.1325246 , -0.54686773,  0.76721011],\n",
       "       [ 0.89228987, -0.20211093, -0.88473529,  0.95123438, -0.77301761],\n",
       "       [ 0.17240352,  0.10002   ,  0.2523198 , -0.40810931, -0.69798374]])"
      ]
     },
     "execution_count": 3,
     "metadata": {},
     "output_type": "execute_result"
    }
   ],
   "source": [
    "ksi"
   ]
  },
  {
   "cell_type": "code",
   "execution_count": 4,
   "metadata": {},
   "outputs": [],
   "source": [
    "KSI = np.vstack((np.ones(n),ksi.T)).T    # матрица наблюдений (с 1)"
   ]
  },
  {
   "cell_type": "code",
   "execution_count": 5,
   "metadata": {
    "scrolled": true
   },
   "outputs": [
    {
     "data": {
      "text/plain": [
       "array([[ 1.        ,  0.4218707 , -0.01490294,  0.21761947,  0.68982394,\n",
       "        -0.34001218],\n",
       "       [ 1.        , -0.6356308 , -0.34664399,  0.86661355,  0.21204861,\n",
       "        -0.69966917],\n",
       "       [ 1.        , -0.95837708, -0.23977662, -0.38830248, -0.26502104,\n",
       "         0.57542505],\n",
       "       [ 1.        ,  0.81707281,  0.53013904,  0.22061882, -0.52381073,\n",
       "         0.61104861],\n",
       "       [ 1.        ,  0.202702  ,  0.16513936,  0.68059709,  0.36868823,\n",
       "        -0.01326632],\n",
       "       [ 1.        , -0.38226365,  0.07184435, -0.2669517 ,  0.08687917,\n",
       "         0.68796597],\n",
       "       [ 1.        , -0.3831415 , -0.79470417,  0.28139012,  0.13985929,\n",
       "        -0.04267765],\n",
       "       [ 1.        , -0.19308998, -0.56295253, -0.95729492, -0.98940746,\n",
       "         0.53191273],\n",
       "       [ 1.        ,  0.29162405,  0.19656449, -0.1846056 ,  0.34147724,\n",
       "        -0.40407968],\n",
       "       [ 1.        ,  0.05602613,  0.74934011, -0.57545717,  0.58658561,\n",
       "        -0.16166639],\n",
       "       [ 1.        , -0.65116575,  0.11237403, -0.75690734,  0.19796884,\n",
       "        -0.58288698],\n",
       "       [ 1.        , -0.10539435,  0.3640714 , -0.30789693,  0.63672038,\n",
       "        -0.82800694],\n",
       "       [ 1.        , -0.72900954,  0.87590991,  0.64143512, -0.38169991,\n",
       "        -0.17820813],\n",
       "       [ 1.        ,  0.79659163, -0.52007375,  0.94182218,  0.09697907,\n",
       "        -0.767469  ],\n",
       "       [ 1.        , -0.3008469 ,  0.97440023, -0.41142743,  0.32350098,\n",
       "        -0.24802227],\n",
       "       [ 1.        ,  0.97901145, -0.78762822, -0.09090395,  0.32868932,\n",
       "        -0.45240862],\n",
       "       [ 1.        ,  0.30355081,  0.10944878,  0.77891713,  0.91292145,\n",
       "        -0.18355052],\n",
       "       [ 1.        ,  0.15853633, -0.81032831,  0.31427854, -0.94323544,\n",
       "        -0.17021451],\n",
       "       [ 1.        ,  0.96558822, -0.14192611,  0.57469906, -0.53234504,\n",
       "        -0.44028982],\n",
       "       [ 1.        ,  0.90076278, -0.03091497, -0.05602816,  0.84376848,\n",
       "         0.85511097],\n",
       "       [ 1.        ,  0.39021919,  0.24880136,  0.22640082, -0.87246217,\n",
       "         0.84525561],\n",
       "       [ 1.        ,  0.1944741 ,  0.27536461, -0.27413357, -0.31896847,\n",
       "         0.64583025],\n",
       "       [ 1.        ,  0.09362404, -0.81625533,  0.26559274,  0.48049625,\n",
       "         0.86417407],\n",
       "       [ 1.        ,  0.40216927,  0.71572949,  0.22815462,  0.39175205,\n",
       "         0.14266968],\n",
       "       [ 1.        , -0.77523801, -0.5416286 ,  0.49065882, -0.54750678,\n",
       "        -0.72285089],\n",
       "       [ 1.        ,  0.94991753,  0.04925099,  0.45382131,  0.4439475 ,\n",
       "         0.72364874],\n",
       "       [ 1.        , -0.16717064, -0.30076486,  0.18007943,  0.14113174,\n",
       "        -0.83073036],\n",
       "       [ 1.        ,  0.60215626, -0.18179286,  0.74709982,  0.32888847,\n",
       "         0.32205122],\n",
       "       [ 1.        ,  0.12947235, -0.07838851, -0.97124636, -0.95340849,\n",
       "         0.04242939],\n",
       "       [ 1.        , -0.81108714,  0.14218265,  0.58726615,  0.13497191,\n",
       "        -0.79094108],\n",
       "       [ 1.        , -0.2497278 ,  0.57430769,  0.55338669,  0.01782639,\n",
       "        -0.43230219],\n",
       "       [ 1.        , -0.18781391, -0.12990946, -0.1295844 , -0.42825625,\n",
       "        -0.7762217 ],\n",
       "       [ 1.        ,  0.94007547,  0.72214991, -0.15991697, -0.45232484,\n",
       "        -0.7710071 ],\n",
       "       [ 1.        ,  0.57652652,  0.95575431,  0.17167221,  0.73779037,\n",
       "        -0.38417867],\n",
       "       [ 1.        , -0.8275824 ,  0.14714043, -0.16824184, -0.66782658,\n",
       "        -0.17319131],\n",
       "       [ 1.        , -0.79774516, -0.50344045, -0.39759072,  0.54495845,\n",
       "        -0.56321352],\n",
       "       [ 1.        , -0.85147139, -0.26766969,  0.32684889,  0.86475691,\n",
       "         0.83094921],\n",
       "       [ 1.        ,  0.04027789,  0.32685379,  0.27926719, -0.11551917,\n",
       "        -0.40199247],\n",
       "       [ 1.        ,  0.48977798,  0.50127178,  0.25657689,  0.90577148,\n",
       "        -0.63241734],\n",
       "       [ 1.        ,  0.79548838,  0.00670399,  0.99192093,  0.00944042,\n",
       "         0.13531965],\n",
       "       [ 1.        , -0.61263297, -0.65958058,  0.66013596, -0.73071891,\n",
       "        -0.17901162],\n",
       "       [ 1.        , -0.60976706,  0.48472762, -0.21733704,  0.45942366,\n",
       "         0.05373699],\n",
       "       [ 1.        , -0.68455211, -0.39610669, -0.19208417,  0.24584214,\n",
       "         0.10477078],\n",
       "       [ 1.        , -0.64419423, -0.59140091,  0.7630522 , -0.16624431,\n",
       "         0.20780471],\n",
       "       [ 1.        ,  0.46108895,  0.17706505, -0.65276738, -0.60257225,\n",
       "        -0.41843965],\n",
       "       [ 1.        , -0.56799135, -0.33372574, -0.35771772, -0.92898005,\n",
       "         0.00788097],\n",
       "       [ 1.        ,  0.24945791,  0.49719424,  0.7032129 , -0.16970962,\n",
       "         0.64268673],\n",
       "       [ 1.        , -0.08691873,  0.43710201,  0.1325246 , -0.54686773,\n",
       "         0.76721011],\n",
       "       [ 1.        ,  0.89228987, -0.20211093, -0.88473529,  0.95123438,\n",
       "        -0.77301761],\n",
       "       [ 1.        ,  0.17240352,  0.10002   ,  0.2523198 , -0.40810931,\n",
       "        -0.69798374]])"
      ]
     },
     "execution_count": 5,
     "metadata": {},
     "output_type": "execute_result"
    }
   ],
   "source": [
    "KSI"
   ]
  },
  {
   "cell_type": "code",
   "execution_count": 6,
   "metadata": {},
   "outputs": [],
   "source": [
    "F = KSI.T@ KSI    # матрица Фишера"
   ]
  },
  {
   "cell_type": "code",
   "execution_count": 7,
   "metadata": {
    "scrolled": true
   },
   "outputs": [
    {
     "data": {
      "text/plain": [
       "array([[ 0.0215536 , -0.00037117, -0.00277321, -0.00865147,  0.00059851,\n",
       "         0.00621219],\n",
       "       [-0.00037117,  0.06129778, -0.01168294, -0.00706767, -0.00874275,\n",
       "        -0.0031476 ],\n",
       "       [-0.00277321, -0.01168294,  0.09196747,  0.00909251, -0.01073985,\n",
       "         0.00094355],\n",
       "       [-0.00865147, -0.00706767,  0.00909251,  0.07973539, -0.0064704 ,\n",
       "        -0.0010735 ],\n",
       "       [ 0.00059851, -0.00874275, -0.01073985, -0.0064704 ,  0.06867777,\n",
       "         0.00732133],\n",
       "       [ 0.00621219, -0.0031476 ,  0.00094355, -0.0010735 ,  0.00732133,\n",
       "         0.06927638]])"
      ]
     },
     "execution_count": 7,
     "metadata": {},
     "output_type": "execute_result"
    }
   ],
   "source": [
    "F_1 = np.linalg.inv(F)    # обратная матрица Фишера\n",
    "F_1"
   ]
  },
  {
   "cell_type": "code",
   "execution_count": 8,
   "metadata": {},
   "outputs": [
    {
     "data": {
      "text/plain": [
       "array([0.0215536 , 0.06129778, 0.09196747, 0.07973539, 0.06867777,\n",
       "       0.06927638])"
      ]
     },
     "execution_count": 8,
     "metadata": {},
     "output_type": "execute_result"
    }
   ],
   "source": [
    "fii = np.array([0.,0.,0.,0.,0.,0.])\n",
    "for i in range(6):    \n",
    "    fii[i] = F_1[i,i] \n",
    "fii    # диагональные эл-ты м Фишера"
   ]
  },
  {
   "cell_type": "code",
   "execution_count": 9,
   "metadata": {
    "scrolled": false
   },
   "outputs": [
    {
     "data": {
      "text/plain": [
       "array([ 5.02702887,  0.98470636, -1.16107196,  1.89892338,  3.43091854,\n",
       "        0.23285356,  1.56039391,  2.4069079 ,  0.18547731,  0.57268733,\n",
       "        1.32734548,  2.09390958, -0.443962  ,  6.42618159, -0.34946845,\n",
       "       10.06012238,  4.44276194,  2.86386195,  6.66616889,  4.40142611,\n",
       "       -0.28213073,  1.14549412,  3.06036243,  5.37999597, -0.38909485,\n",
       "        5.87579951,  4.42822878,  4.65617577,  1.87628588,  2.7475774 ,\n",
       "        1.18130704, -0.91325398,  5.04632284,  1.83127814, -0.63454085,\n",
       "        3.69228625,  0.07961634,  2.21831806,  6.83974765,  6.35419301,\n",
       "        0.1363002 , -0.14779749,  2.10137809,  1.06564337,  2.5855813 ,\n",
       "       -1.59358902, -0.26087494, -2.32211527,  7.15290155,  2.59613382])"
      ]
     },
     "execution_count": 9,
     "metadata": {},
     "output_type": "execute_result"
    }
   ],
   "source": [
    "y = np.zeros(n)\n",
    "for i in range(n):\n",
    "    y[i] = 2 + 3 * ksi[i, 0] - 2* ksi[i, 1] + ksi[i, 2] + ksi[i, 3] - ksi[i, 4]\n",
    "    y[i] = np.random.normal(y[i], 1.5)\n",
    "y"
   ]
  },
  {
   "cell_type": "markdown",
   "metadata": {},
   "source": [
    "## a) Мультиколлинеарность"
   ]
  },
  {
   "cell_type": "code",
   "execution_count": 10,
   "metadata": {},
   "outputs": [
    {
     "name": "stdout",
     "output_type": "stream",
     "text": [
      "R_sq1 = 0.059\n",
      "R_sq2 = 0.055\n",
      "R_sq3 = 0.027\n",
      "R_sq4 = 0.061\n",
      "R_sq5 = 0.013\n"
     ]
    }
   ],
   "source": [
    "for j in range(5):\n",
    "    model_j = LinearRegression()\n",
    "    ksi_j = copy.copy(ksi)\n",
    "    ksi_j.T[j] = 1\n",
    "    model_j.fit(ksi_j, ksi[:, j])\n",
    "    r_sq_j = model_j.score(ksi_j, ksi[:, j])    # коэф детерминации\n",
    "    print(f\"R_sq{j+1} = {r_sq_j.round(3)}\")"
   ]
  },
  {
   "cell_type": "markdown",
   "metadata": {},
   "source": [
    "Все R_sq < 0.7, значит кси_i не коррелируют"
   ]
  },
  {
   "cell_type": "markdown",
   "metadata": {},
   "source": [
    "## b-c) Уравнение линейной регрессии, значимость коэф-тов, коэф детерминации"
   ]
  },
  {
   "cell_type": "code",
   "execution_count": 11,
   "metadata": {},
   "outputs": [
    {
     "data": {
      "text/plain": [
       "LinearRegression()"
      ]
     },
     "execution_count": 11,
     "metadata": {},
     "output_type": "execute_result"
    }
   ],
   "source": [
    "model = LinearRegression()\n",
    "model.fit(ksi,y)"
   ]
  },
  {
   "cell_type": "code",
   "execution_count": 12,
   "metadata": {},
   "outputs": [],
   "source": [
    "b = model.coef_\n",
    "inter = model.intercept_\n",
    "\n",
    "b = np.hstack((inter,b))    # коэф-ты линейнй регрессии"
   ]
  },
  {
   "cell_type": "code",
   "execution_count": 13,
   "metadata": {},
   "outputs": [],
   "source": [
    "r_sq = model.score(ksi, y)    # коэф детерминации"
   ]
  },
  {
   "cell_type": "code",
   "execution_count": 14,
   "metadata": {},
   "outputs": [
    {
     "data": {
      "text/plain": [
       "array([ 5.07673470e+00,  2.18182566e+00, -1.63927813e+00,  2.24462567e+00,\n",
       "        3.18930848e+00,  4.22698360e-04,  2.83664933e+00,  3.67375314e-01,\n",
       "        3.73375970e+00,  1.85571333e+00,  7.73806684e-01,  3.08025763e+00,\n",
       "       -2.14449404e+00,  7.08996231e+00,  2.65809044e-03,  7.97558210e+00,\n",
       "        4.66900767e+00,  3.18597608e+00,  5.46757119e+00,  5.29613565e+00,\n",
       "        6.05737937e-01,  9.13120175e-01,  3.75237328e+00,  2.49549847e+00,\n",
       "        9.60060692e-01,  4.95871589e+00,  3.55501013e+00,  4.69112772e+00,\n",
       "        1.12964172e+00,  5.98123292e-01,  9.11524769e-01,  2.18237601e+00,\n",
       "        4.08764128e+00,  3.76543517e+00, -1.57900124e+00,  2.07420714e+00,\n",
       "        2.25502184e-01,  2.05954735e+00,  4.97313846e+00,  4.75046953e+00,\n",
       "        7.75411691e-01, -1.77930828e-01,  9.55302144e-01,  8.91345019e-01,\n",
       "        2.86239520e+00, -4.34643457e-01,  1.03861076e+00, -7.45229505e-01,\n",
       "        7.73271344e+00,  2.88287849e+00])"
      ]
     },
     "execution_count": 14,
     "metadata": {},
     "output_type": "execute_result"
    }
   ],
   "source": [
    "y_predict = model.predict(ksi)    # прогноз выборки\n",
    "y_predict"
   ]
  },
  {
   "cell_type": "code",
   "execution_count": 15,
   "metadata": {},
   "outputs": [
    {
     "name": "stdout",
     "output_type": "stream",
     "text": [
      "TSS =  355.29912838206303\n"
     ]
    }
   ],
   "source": [
    "TSS = 0     # дисперсия откликов\n",
    "for i in range(n):\n",
    "    TSS += (y[i] - y.mean())**2\n",
    "\n",
    "print(\"TSS = \",TSS)"
   ]
  },
  {
   "cell_type": "code",
   "execution_count": 16,
   "metadata": {},
   "outputs": [
    {
     "name": "stdout",
     "output_type": "stream",
     "text": [
      "RSS =  83.33360400178934\n"
     ]
    }
   ],
   "source": [
    "RSS = (1 - r_sq) * TSS  # остаточная сумма квадратов\n",
    "print(\"RSS = \", RSS)"
   ]
  },
  {
   "cell_type": "code",
   "execution_count": 17,
   "metadata": {},
   "outputs": [
    {
     "data": {
      "text/plain": [
       "array([10.81356982,  9.49431274, -4.76913798,  0.4317992 ,  4.10713493,\n",
       "       -3.56612929])"
      ]
     },
     "execution_count": 17,
     "metadata": {},
     "output_type": "execute_result"
    }
   ],
   "source": [
    "# проверка значимости коэф-тов\n",
    "delta = np.array([0.,0.,0.,0.,0.,0.])\n",
    "for i in range(6):\n",
    "    delta[i] = b[i] * (n-6)**0.5 / ((RSS * fii[i] ) ** 0.5)\n",
    "\n",
    "delta     # "
   ]
  },
  {
   "cell_type": "markdown",
   "metadata": {},
   "source": [
    "delta = 9.03 -> значим;\n",
    "delta = 9.15 -> значим;\n",
    "delta = -4.6 -> значим;\n",
    "delta = 3.0 -> значим;\n",
    "delta = 0.7 -> не значим;\n",
    "delta = -5.4 -> значим;"
   ]
  },
  {
   "cell_type": "code",
   "execution_count": 18,
   "metadata": {},
   "outputs": [
    {
     "data": {
      "text/plain": [
       "array([ 2.18480515,  3.23496545, -1.99040174,  0.16779968,  1.48125834,\n",
       "       -1.29173499])"
      ]
     },
     "execution_count": 18,
     "metadata": {},
     "output_type": "execute_result"
    }
   ],
   "source": [
    "b # коэфф-ты регрессии"
   ]
  },
  {
   "cell_type": "markdown",
   "metadata": {},
   "source": [
    " все коэф-ты значимы"
   ]
  },
  {
   "cell_type": "code",
   "execution_count": 19,
   "metadata": {},
   "outputs": [
    {
     "data": {
      "text/plain": [
       "0.7655"
      ]
     },
     "execution_count": 19,
     "metadata": {},
     "output_type": "execute_result"
    }
   ],
   "source": [
    "r_sq.round(4)"
   ]
  },
  {
   "cell_type": "code",
   "execution_count": 20,
   "metadata": {},
   "outputs": [],
   "source": [
    "delta_regressii = (r_sq / (1-r_sq) )* ((n-6) / (6-1))"
   ]
  },
  {
   "cell_type": "code",
   "execution_count": 21,
   "metadata": {
    "scrolled": true
   },
   "outputs": [
    {
     "data": {
      "text/plain": [
       "28.7195"
      ]
     },
     "execution_count": 21,
     "metadata": {},
     "output_type": "execute_result"
    }
   ],
   "source": [
    "delta_regressii.round(4)"
   ]
  },
  {
   "cell_type": "markdown",
   "metadata": {},
   "source": [
    " p_value стремится к нулю => отвергаем H_0, т е регрессия значима"
   ]
  },
  {
   "cell_type": "markdown",
   "metadata": {},
   "source": [
    "## d) x_i = 0, доверительный интервал с gamma = 0.95"
   ]
  },
  {
   "cell_type": "code",
   "execution_count": 22,
   "metadata": {},
   "outputs": [
    {
     "data": {
      "text/plain": [
       "2.1848051458586837"
      ]
     },
     "execution_count": 22,
     "metadata": {},
     "output_type": "execute_result"
    }
   ],
   "source": [
    "y_new = b[0]\n",
    "y_new"
   ]
  },
  {
   "cell_type": "code",
   "execution_count": 23,
   "metadata": {},
   "outputs": [],
   "source": [
    "new_KSI = np.array([1.,0.,0.,0.,0.,0.])\n",
    "t_0975 = 2.02\n",
    "new_delta = t_0975 * (1 + new_KSI @ F_1 @ new_KSI.T)"
   ]
  },
  {
   "cell_type": "code",
   "execution_count": 24,
   "metadata": {},
   "outputs": [
    {
     "data": {
      "text/plain": [
       "2.063538265590053"
      ]
     },
     "execution_count": 24,
     "metadata": {},
     "output_type": "execute_result"
    }
   ],
   "source": [
    "new_delta"
   ]
  },
  {
   "cell_type": "code",
   "execution_count": 25,
   "metadata": {},
   "outputs": [],
   "source": [
    "dov_interval = (round(y_new - new_delta, 4), round(y_new + new_delta, 4))   # доверительнй интервал"
   ]
  },
  {
   "cell_type": "code",
   "execution_count": 26,
   "metadata": {},
   "outputs": [
    {
     "data": {
      "text/plain": [
       "(0.1213, 4.2483)"
      ]
     },
     "execution_count": 26,
     "metadata": {},
     "output_type": "execute_result"
    }
   ],
   "source": [
    "dov_interval"
   ]
  },
  {
   "cell_type": "markdown",
   "metadata": {},
   "source": [
    "## e) Предположние о независимости ошибок измерения"
   ]
  },
  {
   "cell_type": "code",
   "execution_count": 27,
   "metadata": {
    "scrolled": true
   },
   "outputs": [
    {
     "data": {
      "text/plain": [
       "array([[-0.04970582, -1.1971193 ,  0.47820617, -0.34570229,  0.24161006,\n",
       "         0.23243086, -1.27625541,  2.03953258, -3.54828239, -1.283026  ,\n",
       "         0.5535388 , -0.98634806,  1.70053204, -0.66378072, -0.35212654,\n",
       "         2.08454027, -0.22624573, -0.32211413,  1.19859769, -0.89470954,\n",
       "        -0.88786867,  0.23237394, -0.69201085,  2.8844975 , -1.34915554,\n",
       "         0.91708362,  0.87321864, -0.03495196,  0.74664416,  2.14945411,\n",
       "         0.26978227, -3.09562999,  0.95868157, -1.93415703,  0.94446039,\n",
       "         1.61807912, -0.14588585,  0.15877072,  1.86660919,  1.60372348,\n",
       "        -0.63911149,  0.03013334,  1.14607595,  0.17429835, -0.2768139 ,\n",
       "        -1.15894556, -1.2994857 , -1.57688577, -0.57981189, -0.28674467]])"
      ]
     },
     "execution_count": 27,
     "metadata": {},
     "output_type": "execute_result"
    }
   ],
   "source": [
    "e = np.ones((1,n))    # вектор ошибок в эксперименте\n",
    "\n",
    "for i in range(n):\n",
    "    e[0,i] = y[i] - y_predict[i]\n",
    "e"
   ]
  },
  {
   "cell_type": "code",
   "execution_count": 28,
   "metadata": {},
   "outputs": [],
   "source": [
    "I = np.zeros(n)\n",
    "for i in range(n-1):\n",
    "    for j in range(i+1,n):\n",
    "        if e[0,i] > e[0,j]:\n",
    "            I[i] +=1\n",
    "            \n",
    "il = I.sum()    # число инверсий в е"
   ]
  },
  {
   "cell_type": "code",
   "execution_count": 29,
   "metadata": {},
   "outputs": [],
   "source": [
    "delta_nezavisimosti = (il - n*(n-1)/4) /((n**3/36)**0.5)"
   ]
  },
  {
   "cell_type": "code",
   "execution_count": 30,
   "metadata": {},
   "outputs": [
    {
     "data": {
      "text/plain": [
       "-0.05939696961966999"
      ]
     },
     "execution_count": 30,
     "metadata": {},
     "output_type": "execute_result"
    }
   ],
   "source": [
    "delta_nezavisimosti"
   ]
  },
  {
   "cell_type": "markdown",
   "metadata": {},
   "source": [
    "p_value_nezavisimosti равно 0.2 cледовательно нет оснований отвергнуть H_0, следовательно ошибки измерения независимы"
   ]
  },
  {
   "cell_type": "markdown",
   "metadata": {},
   "source": [
    "## f) Предположение о нормальности распределения ошибок"
   ]
  },
  {
   "cell_type": "code",
   "execution_count": 31,
   "metadata": {
    "scrolled": true
   },
   "outputs": [
    {
     "data": {
      "text/plain": [
       "array([[-0.04970582],\n",
       "       [-1.1971193 ],\n",
       "       [ 0.47820617],\n",
       "       [-0.34570229],\n",
       "       [ 0.24161006],\n",
       "       [ 0.23243086],\n",
       "       [-1.27625541],\n",
       "       [ 2.03953258],\n",
       "       [-3.54828239],\n",
       "       [-1.283026  ],\n",
       "       [ 0.5535388 ],\n",
       "       [-0.98634806],\n",
       "       [ 1.70053204],\n",
       "       [-0.66378072],\n",
       "       [-0.35212654],\n",
       "       [ 2.08454027],\n",
       "       [-0.22624573],\n",
       "       [-0.32211413],\n",
       "       [ 1.19859769],\n",
       "       [-0.89470954],\n",
       "       [-0.88786867],\n",
       "       [ 0.23237394],\n",
       "       [-0.69201085],\n",
       "       [ 2.8844975 ],\n",
       "       [-1.34915554],\n",
       "       [ 0.91708362],\n",
       "       [ 0.87321864],\n",
       "       [-0.03495196],\n",
       "       [ 0.74664416],\n",
       "       [ 2.14945411],\n",
       "       [ 0.26978227],\n",
       "       [-3.09562999],\n",
       "       [ 0.95868157],\n",
       "       [-1.93415703],\n",
       "       [ 0.94446039],\n",
       "       [ 1.61807912],\n",
       "       [-0.14588585],\n",
       "       [ 0.15877072],\n",
       "       [ 1.86660919],\n",
       "       [ 1.60372348],\n",
       "       [-0.63911149],\n",
       "       [ 0.03013334],\n",
       "       [ 1.14607595],\n",
       "       [ 0.17429835],\n",
       "       [-0.2768139 ],\n",
       "       [-1.15894556],\n",
       "       [-1.2994857 ],\n",
       "       [-1.57688577],\n",
       "       [-0.57981189],\n",
       "       [-0.28674467]])"
      ]
     },
     "execution_count": 31,
     "metadata": {},
     "output_type": "execute_result"
    }
   ],
   "source": [
    "# проверяем гипотезу о том, что вектор ошибок e распределён по номральному закону\n",
    "e = np.transpose(e)\n",
    "e"
   ]
  },
  {
   "cell_type": "code",
   "execution_count": 32,
   "metadata": {},
   "outputs": [],
   "source": [
    "def F_empir(sample, prom):\n",
    "    n = len(sample)\n",
    "    xx = prom\n",
    "    F_tilda = np.array([len(np.where(sample < num)[0])/n for num in xx])\n",
    "    return F_tilda\n",
    "\n",
    "def NormDistribution_px(x, a, s2):\n",
    "        return (1/np.sqrt(2 * np.pi * s2) * np.exp(-1 * (x - a)**2 / (2*s2)))\n",
    "\n",
    "def NormDistribution_Fx(x, a, s2):\n",
    "    i, e = quad(NormDistribution_px, -np.inf, x, args=(a,s2))\n",
    "    return i"
   ]
  },
  {
   "cell_type": "code",
   "execution_count": 33,
   "metadata": {
    "scrolled": true
   },
   "outputs": [
    {
     "name": "stdout",
     "output_type": "stream",
     "text": [
      "оценки параметров нормальной модели: \n",
      "a = -2.486899575160351e-16, s2 = 1.6666720800357862\n",
      "delta = 0.47525176312619744\n"
     ]
    },
    {
     "data": {
      "text/plain": [
       "[<matplotlib.lines.Line2D at 0x2b7f0dd2400>]"
      ]
     },
     "execution_count": 33,
     "metadata": {},
     "output_type": "execute_result"
    },
    {
     "data": {
      "image/png": "[encoded data removed]",
      "text/plain": [
       "<Figure size 432x288 with 1 Axes>"
      ]
     },
     "metadata": {
      "needs_background": "light"
     },
     "output_type": "display_data"
    }
   ],
   "source": [
    "# 1) оценка параметров по выборке\n",
    "a1 = e.mean()\n",
    "a2 = (e**2).mean()\n",
    "\n",
    "a = a1\n",
    "s2 = a2 - a1**2\n",
    "print(f\"оценки параметров нормальной модели: \\na = {a}, s2 = {s2}\")\n",
    "\n",
    "#посчитаем значение критерия\n",
    "Nnods = 100\n",
    "xx = np.linspace(-10, 10, Nnods)\n",
    "F_tilda = F_empir(e, xx)\n",
    "F = np.array([NormDistribution_Fx(xx[i], a, s2) for i in np.arange(Nnods)])\n",
    "\n",
    "delta_tilda = np.sqrt(n) * (np.abs(F - F_tilda)).max()\n",
    "print(\"delta =\", delta_tilda)\n",
    "\n",
    "plt.plot(xx, F)\n",
    "plt.plot(xx, F_tilda)"
   ]
  },
  {
   "cell_type": "code",
   "execution_count": 34,
   "metadata": {},
   "outputs": [],
   "source": [
    "# бутстрап\n",
    "\n",
    "N_but = 10000\n",
    "delta_list = np.empty(N_but)\n",
    "\n",
    "Nnods = 100\n",
    "xx_star = np.linspace(-10, 10, Nnods)\n",
    "\n",
    "for but_iter in np.arange(N_but):\n",
    "    # реализуем новую выборку согласно посчитанному закону распределения\n",
    "    xstar = np.random.normal(a, s2, n)\n",
    "\n",
    "    a_star = xstar.mean()\n",
    "    s2_star = (xstar**2).mean() - a_star**2\n",
    "\n",
    "    \n",
    "    #построение эмпирической функции распределения\n",
    "    F_tilda = F_empir(xstar, xx_star)\n",
    "    #теоретическая ф-ия распределения с данными параметрами\n",
    "    F = np.array([NormDistribution_Fx(xx_star[i], a_star, s2_star) for i in np.arange(Nnods)])\n",
    "\n",
    "    delta_star = np.sqrt(n) * (np.abs(F - F_tilda)).max()\n",
    "    delta_list[but_iter] = delta_star\n",
    "\n",
    "delta_list = np.array(delta_list)\n"
   ]
  },
  {
   "cell_type": "code",
   "execution_count": 35,
   "metadata": {},
   "outputs": [
    {
     "data": {
      "text/plain": [
       "array([0.40126901, 0.54695562, 0.68928076, 0.54669773, 0.33778556,\n",
       "       0.97115332, 0.64008369, 0.30661713, 0.4137278 , 0.33098442,\n",
       "       0.47664864, 0.62328134, 0.50274257, 0.36227449, 0.63597012,\n",
       "       0.4700961 , 0.39874842, 0.67734274, 0.50345891, 0.7899791 ,\n",
       "       0.68674958, 0.35906522, 0.52292794, 0.46614173, 0.47932629,\n",
       "       0.65497932, 0.51265214, 0.45660061, 0.47174522, 0.55536634,\n",
       "       0.54114753, 0.44687454, 0.60718509, 0.63463605, 0.56560381,\n",
       "       0.41718479, 0.43899682, 0.70559053, 0.44563086, 0.55348581,\n",
       "       0.36879427, 0.51830075, 0.53969986, 0.46320639, 0.3866955 ,\n",
       "       0.56386611, 0.36144755, 0.73816967, 0.4483432 , 0.33932356,\n",
       "       0.32967276, 0.67156243, 0.52217835, 0.40379587, 0.3539047 ,\n",
       "       0.4802091 , 0.45029083, 0.42407674, 0.54330874, 0.57523555,\n",
       "       0.33619015, 0.35369057, 0.78391543, 0.55185545, 0.42149558,\n",
       "       0.62540491, 0.46271989, 0.7854105 , 0.53479508, 0.99469286,\n",
       "       0.32700528, 0.60095556, 0.47646772, 0.44321866, 0.5650902 ,\n",
       "       0.43617233, 0.44634687, 0.40403232, 0.30039214, 0.28108199,\n",
       "       0.80562517, 0.28818426, 0.61127171, 0.73387877, 0.49718654,\n",
       "       0.80603826, 0.31889783, 0.6332808 , 0.71985321, 0.67156408,\n",
       "       0.4698113 , 0.4856119 , 0.60057059, 0.68698862, 0.56638914,\n",
       "       0.54041678, 0.46738617, 0.59727518, 0.48585966, 0.80584389,\n",
       "       0.31883808, 0.41814105, 0.47704214, 0.5649034 , 0.26299076,\n",
       "       0.32657619, 0.50497998, 0.45203988, 0.35137506, 0.38383962,\n",
       "       0.598655  , 0.35353984, 0.41072283, 1.09269026, 0.40313896,\n",
       "       0.50696985, 0.51171449, 0.78936156, 0.56759521, 0.79880819,\n",
       "       0.36599617, 0.51507452, 0.38034057, 0.42436877, 0.58524576,\n",
       "       0.37206085, 0.5261419 , 0.59922093, 0.41602581, 0.52176037,\n",
       "       0.33406839, 0.35953863, 0.46022355, 0.39734306, 0.55613867,\n",
       "       0.72026734, 0.34776202, 0.4360485 , 0.46242013, 0.53749943,\n",
       "       0.44754614, 0.56634823, 0.34671043, 0.53356819, 0.54292499,\n",
       "       0.53917468, 0.41208508, 0.43289403, 0.44539088, 0.87249109,\n",
       "       0.46778997, 0.45051991, 0.71159136, 0.38606671, 0.45608877,\n",
       "       0.40450634, 0.57830829, 0.49339932, 0.68072586, 0.47066257,\n",
       "       0.46231206, 0.55079389, 0.76346289, 0.40972524, 0.33777236,\n",
       "       0.66313259, 0.42297772, 0.64036305, 0.29327289, 0.35834764,\n",
       "       0.41933317, 0.44272239, 0.59412657, 0.54237928, 0.41117042,\n",
       "       0.74210089, 0.69665121, 0.6300981 , 0.30688572, 0.36207706,\n",
       "       0.61662799, 0.7039807 , 0.80054001, 0.40941673, 0.3459788 ,\n",
       "       0.42494859, 0.56686994, 0.83004037, 0.32889577, 0.51596978,\n",
       "       0.52362499, 0.26449041, 0.54649811, 0.48209794, 0.49695952,\n",
       "       0.42063402, 0.4162047 , 0.65309944, 0.70405619, 0.41863812,\n",
       "       0.37936911, 0.44445325, 0.49042455, 0.39136618, 0.45888167,\n",
       "       0.51305658, 0.34952735, 0.38045755, 0.52446834, 0.47769713,\n",
       "       0.37463261, 0.41214183, 0.32292499, 0.43775837, 0.55133122,\n",
       "       0.60635521, 0.37423799, 0.85540966, 0.55737069, 0.82433987,\n",
       "       0.51068735, 0.72116105, 0.47949144, 0.68654493, 0.38708777,\n",
       "       0.43856776, 0.33575799, 0.38414261, 0.24688677, 0.28834446,\n",
       "       0.61793975, 0.33728069, 0.50498812, 0.47644662, 0.51000745,\n",
       "       0.38337448, 0.66613938, 0.48269682, 0.6464139 , 0.50304059,\n",
       "       0.54723987, 0.39182211, 0.41797515, 0.3500263 , 0.53257232,\n",
       "       0.73084455, 0.43229285, 0.58806233, 0.3736356 , 0.58715572,\n",
       "       0.53970058, 0.61507337, 0.72254381, 0.4899019 , 0.61335644,\n",
       "       0.35232705, 0.47824453, 0.43012566, 0.94696742, 0.66578071,\n",
       "       0.4277357 , 0.78116321, 0.39408909, 0.36399671, 1.00171105,\n",
       "       0.54609812, 0.43015737, 0.57993127, 0.46609412, 0.50597424,\n",
       "       0.52432562, 0.42232317, 0.31151883, 0.34998784, 0.62792477,\n",
       "       0.3277211 , 0.64671575, 0.35547664, 0.28445808, 0.51469459,\n",
       "       0.57011354, 0.45890881, 0.5235505 , 0.48597107, 0.35244276,\n",
       "       0.67600384, 0.44357869, 0.5126876 , 0.44075945, 0.42082237,\n",
       "       0.39380024, 0.59091055, 0.34704996, 0.63962182, 0.48988176,\n",
       "       0.41024708, 0.53605155, 0.56143477, 0.3427848 , 0.53946099,\n",
       "       0.36023912, 0.66807613, 0.32624868, 0.66606012, 0.40690948,\n",
       "       0.24408172, 0.3383248 , 0.4028387 , 0.64424537, 0.38332099,\n",
       "       0.5068208 , 0.49120136, 0.45048111, 0.76960245, 0.64420487,\n",
       "       0.53619414, 0.51519352, 0.57043604, 0.54655533, 0.41273034,\n",
       "       0.69073977, 0.59138222, 0.38842168, 0.54522506, 0.76499152,\n",
       "       0.31715689, 0.411315  , 0.34640364, 0.27725924, 0.61776439,\n",
       "       0.526244  , 0.76901994, 0.3721955 , 0.45528683, 0.49412181,\n",
       "       0.46347807, 0.87829644, 0.30824388, 0.2962656 , 0.44300167,\n",
       "       0.39001237, 0.59162581, 0.51063094, 0.56359411, 0.47553575,\n",
       "       0.36353089, 0.54512279, 0.48457254, 0.44970653, 0.39173694,\n",
       "       0.57483303, 0.58978904, 0.4512049 , 0.68454122, 0.70921425,\n",
       "       0.46730321, 0.26728174, 0.65820283, 0.59924568, 0.44220916,\n",
       "       0.45118756, 0.3925383 , 0.57845754, 0.70878729, 0.30900807,\n",
       "       0.63462016, 0.4354912 , 0.87260879, 0.33984938, 0.69489068,\n",
       "       0.68377615, 0.37104681, 0.47282302, 0.50975055, 0.61435721,\n",
       "       0.34360548, 0.74972138, 0.51230243, 0.73324882, 0.38802496,\n",
       "       0.46435265, 0.48274975, 0.60088137, 0.50911346, 0.70476466,\n",
       "       0.65391116, 0.82487556, 0.95594247, 0.61245717, 0.50890543,\n",
       "       0.44102956, 0.62092589, 0.32331468, 0.45311008, 0.37178162,\n",
       "       0.6363882 , 0.49070346, 0.43095614, 0.38211847, 0.37675761,\n",
       "       0.69586223, 0.32507993, 0.67828795, 0.36774089, 0.38240443,\n",
       "       0.43451012, 0.45213747, 0.49977368, 0.29616237, 0.51980356,\n",
       "       0.3936235 , 0.86655759, 0.33108739, 0.44496179, 0.78878404,\n",
       "       0.68781331, 0.49434241, 0.546544  , 0.80888002, 0.42123209,\n",
       "       0.40997401, 0.25669888, 0.7440119 , 0.38854035, 0.31992524,\n",
       "       0.3975062 , 0.62568772, 0.42803406, 0.41565134, 0.41319931,\n",
       "       0.64004775, 0.44289295, 0.50737767, 0.47898771, 0.59051748,\n",
       "       0.41120745, 0.46382816, 0.57243406, 0.4012477 , 0.32409534,\n",
       "       0.33428154, 0.67557209, 0.39569135, 0.48169734, 0.35710448,\n",
       "       0.58547496, 0.51982651, 0.47509151, 0.88478559, 0.54145587,\n",
       "       0.38777682, 0.4095399 , 0.41881153, 0.6255136 , 0.64369024,\n",
       "       0.61320593, 0.5441684 , 0.35892086, 0.44116253, 0.43592156,\n",
       "       0.50522075, 0.38091975, 0.91072047, 0.47138661, 0.63571939,\n",
       "       0.54876537, 0.48885454, 0.4098712 , 0.45451929, 0.43924223,\n",
       "       0.46181645, 0.55626152, 0.396304  , 0.5103838 , 0.48051293,\n",
       "       0.60662044, 0.47181303, 0.27011169, 0.28320824, 0.53532073,\n",
       "       0.7452228 , 0.39891602, 0.49120977, 0.46300561, 0.46134236,\n",
       "       0.66308725, 0.42751353, 0.62054285, 0.5255082 , 0.51978893,\n",
       "       0.69124612, 0.33299517, 0.4338116 , 0.42435936, 0.59968717,\n",
       "       0.44643602, 0.57585537, 0.2702082 , 0.67981285, 0.53742177])"
      ]
     },
     "execution_count": 35,
     "metadata": {},
     "output_type": "execute_result"
    }
   ],
   "source": [
    "delta_list"
   ]
  },
  {
   "cell_type": "code",
   "execution_count": 36,
   "metadata": {},
   "outputs": [
    {
     "name": "stdout",
     "output_type": "stream",
     "text": [
      "k = 237\n",
      "p_value =  0.528\n",
      "нет оснований отвергнуть гипотезу о нормальном распределении ошибок\n"
     ]
    },
    {
     "data": {
      "text/plain": [
       "<matplotlib.collections.LineCollection at 0x2b7f0ec6790>"
      ]
     },
     "execution_count": 36,
     "metadata": {},
     "output_type": "execute_result"
    },
    {
     "data": {
      "image/png": "[encoded data removed]",
      "text/plain": [
       "<Figure size 432x288 with 1 Axes>"
      ]
     },
     "metadata": {
      "needs_background": "light"
     },
     "output_type": "display_data"
    }
   ],
   "source": [
    "delta_list = np.sort(delta_list)\n",
    "\n",
    "k = 1\n",
    "for i in np.arange(1, N_but):\n",
    "    if (delta_list[i-1] < delta_tilda) and (delta_tilda <= delta_list[i]):\n",
    "        k = i\n",
    "        break \n",
    "        \n",
    "p_value = 1 - (k-1)/N_but\n",
    "print(\"k =\",k)\n",
    "print(\"p_value = \", p_value)\n",
    "\n",
    "alpha = 0.05\n",
    "if p_value > alpha:\n",
    "    print(\"нет оснований отвергнуть гипотезу о нормальном распределении ошибок\")\n",
    "else:\n",
    "    print(\"отвергаем гипотезу о нормальном распределении ошибок \")\n",
    "\n",
    "khist = int(1 + np.trunc(np.log2(N_but)))\n",
    "hist = np.histogram(delta_list, khist)\n",
    "\n",
    "plt.hist(delta_list, khist)\n",
    "plt.grid()\n",
    "plt.yticks([hist[0][i] for i in range(1,khist,2)])\n",
    "plt.xticks([hist[1][i] for i in range(0,khist,2)])\n",
    "plt.vlines(delta_tilda, 0, hist[0].max())"
   ]
  },
  {
   "cell_type": "markdown",
   "metadata": {},
   "source": [
    "## h) Кросс-проверка"
   ]
  },
  {
   "cell_type": "code",
   "execution_count": 37,
   "metadata": {},
   "outputs": [],
   "source": [
    "ksi1 = copy.copy(ksi)\n",
    "y1 = copy.copy(y)\n",
    "ksi_i = np.delete(ksi1,1,0)\n",
    "y_i = np.delete(y1,1,0)\n",
    "#np.shape(y_i)"
   ]
  },
  {
   "cell_type": "code",
   "execution_count": 38,
   "metadata": {},
   "outputs": [],
   "source": [
    "CVSS = 0\n",
    "for i in range(n):\n",
    "    ksi1 = copy.copy(ksi)\n",
    "    y1 = copy.copy(y)\n",
    "    ksi_i = np.delete(ksi1,i,0)\n",
    "    y_i = np.delete(y1,i,0)\n",
    "    model_i = LinearRegression()\n",
    "    model_i.fit(ksi_i, y_i)\n",
    "    b_i = model_i.coef_\n",
    "    inter_i = model_i.intercept_\n",
    "    b_i = np.hstack((inter_i,b_i)) \n",
    "    CVSS += (y[i]- KSI[i] @ b_i.T)**2"
   ]
  },
  {
   "cell_type": "code",
   "execution_count": 39,
   "metadata": {},
   "outputs": [
    {
     "data": {
      "text/plain": [
       "105.9551"
      ]
     },
     "execution_count": 39,
     "metadata": {},
     "output_type": "execute_result"
    }
   ],
   "source": [
    "CVSS.round(4)"
   ]
  },
  {
   "cell_type": "code",
   "execution_count": 40,
   "metadata": {},
   "outputs": [],
   "source": [
    "R2_CVSS = (TSS - CVSS) / TSS"
   ]
  },
  {
   "cell_type": "code",
   "execution_count": 41,
   "metadata": {},
   "outputs": [
    {
     "data": {
      "text/plain": [
       "0.7018"
      ]
     },
     "execution_count": 41,
     "metadata": {},
     "output_type": "execute_result"
    }
   ],
   "source": [
    "R2_CVSS.round(4)"
   ]
  },
  {
   "cell_type": "markdown",
   "metadata": {},
   "source": [
    "меньше чем R2, но сравнима с ней, значит наша модель, хорошо предсказывает"
   ]
  },
  {
   "cell_type": "markdown",
   "metadata": {},
   "source": [
    "## i) Адекватность регрессии (5 повторных измерений в 1ой точке)"
   ]
  },
  {
   "cell_type": "code",
   "execution_count": 42,
   "metadata": {},
   "outputs": [
    {
     "data": {
      "text/plain": [
       "array([4.62434075, 4.80853846, 6.13062834, 2.31664073, 6.03998452])"
      ]
     },
     "execution_count": 42,
     "metadata": {},
     "output_type": "execute_result"
    }
   ],
   "source": [
    "y_5 = np.zeros(5)\n",
    "for i in range(5):\n",
    "    y_5[i] = np.random.normal(4., 1.5)    # х_i = 1\n",
    "y_5"
   ]
  },
  {
   "cell_type": "code",
   "execution_count": 43,
   "metadata": {},
   "outputs": [
    {
     "data": {
      "text/plain": [
       "2.3762"
      ]
     },
     "execution_count": 43,
     "metadata": {},
     "output_type": "execute_result"
    }
   ],
   "source": [
    "sigma_star_sq = 1 / (5-1) * sum([(y_5[i] - y_5.mean())**2 for i in range(5)])\n",
    "sigma_star_sq.round(4)"
   ]
  },
  {
   "cell_type": "code",
   "execution_count": 44,
   "metadata": {},
   "outputs": [
    {
     "name": "stdout",
     "output_type": "stream",
     "text": [
      "False\n"
     ]
    }
   ],
   "source": [
    "print(RSS <= (5-1)*sigma_star_sq)"
   ]
  },
  {
   "cell_type": "code",
   "execution_count": 45,
   "metadata": {},
   "outputs": [
    {
     "data": {
      "text/plain": [
       "0.797"
      ]
     },
     "execution_count": 45,
     "metadata": {},
     "output_type": "execute_result"
    }
   ],
   "source": [
    "delta_5 = RSS/((n-6)*sigma_star_sq)\n",
    "delta_5.round(4)"
   ]
  },
  {
   "cell_type": "markdown",
   "metadata": {},
   "source": [
    "Критическое значение р Фишера(44,4) = 5.7 => p-value > 0.05 => нет оснований отвергнуть H_0 => сигмы одинаковы"
   ]
  },
  {
   "cell_type": "markdown",
   "metadata": {},
   "source": [
    "## j) Ур линейной регрессии без 4ого фактора"
   ]
  },
  {
   "cell_type": "code",
   "execution_count": 46,
   "metadata": {},
   "outputs": [
    {
     "data": {
      "text/plain": [
       "array([ 2.01009709,  3.10753537, -1.4956971 ,  0.75412548, -1.43225013])"
      ]
     },
     "execution_count": 46,
     "metadata": {},
     "output_type": "execute_result"
    }
   ],
   "source": [
    "model_1 = LinearRegression()\n",
    "\n",
    "ksi1 = copy.copy(ksi)\n",
    "ksi_1 = np.delete(ksi1, 3, 1)\n",
    "y_1 = np.zeros(n)\n",
    "for i in range(n):\n",
    "    y_1[i] = 2 + 3 * ksi_1[i, 0] - 2* ksi_1[i, 1] + ksi_1[i, 2] - ksi_1[i, 3]\n",
    "    y_1[i] = np.random.normal(y_1[i], 1.5)\n",
    "\n",
    "model_1.fit(ksi_1, y_1)\n",
    "b_1 = model_1.coef_\n",
    "inter_1 = model_1.intercept_\n",
    "b_1 = np.hstack((inter_1,b_1)) \n",
    "\n",
    "b_1"
   ]
  },
  {
   "cell_type": "code",
   "execution_count": 47,
   "metadata": {},
   "outputs": [
    {
     "name": "stdout",
     "output_type": "stream",
     "text": [
      "R2 0.667747298958059\n"
     ]
    },
    {
     "data": {
      "text/plain": [
       "array([ 8.94918885,  8.27840306, -3.25313948,  1.75209868, -3.57651915])"
      ]
     },
     "execution_count": 47,
     "metadata": {},
     "output_type": "execute_result"
    }
   ],
   "source": [
    "r_sq_1 = model_1.score(ksi_1, y_1)\n",
    "print('R2',r_sq_1)\n",
    "TSS_1 = 0     # дисперсия откликов\n",
    "for i in range(n):\n",
    "    TSS_1 += (y_1[i] - y_1.mean())**2\n",
    "\n",
    "RSS_1 = (1 - r_sq_1) * TSS_1  # остаточная сумма квадратов\n",
    "\n",
    "KSI_1 = np.vstack((np.ones(n), ksi_1.T)).T    # матрица наблюдений (с 1)\n",
    "F1 = KSI_1.T@ KSI_1    # матрица Фишера\n",
    "F1_1 = np.linalg.inv(F1)    # обратная матрица Фишера\n",
    "fii_1 = np.array([0.,0.,0.,0.,0.,0.])\n",
    "for i in range(5):    \n",
    "    fii_1[i] = F1_1[i,i] \n",
    "\n",
    "delta_1 = np.array([0.,0.,0.,0.,0.])\n",
    "for i in range(5):\n",
    "    delta_1[i] = b_1[i] * (n-5)**0.5 / ((RSS_1 * fii_1[i] ) ** 0.5)\n",
    "\n",
    "delta_1     "
   ]
  },
  {
   "cell_type": "markdown",
   "metadata": {},
   "source": [
    "все значимы"
   ]
  },
  {
   "cell_type": "code",
   "execution_count": 48,
   "metadata": {},
   "outputs": [
    {
     "data": {
      "text/plain": [
       "22.6098"
      ]
     },
     "execution_count": 48,
     "metadata": {},
     "output_type": "execute_result"
    }
   ],
   "source": [
    "delta_regressii_1 = r_sq_1 / (1-r_sq_1) * (n-5) / (5-1)\n",
    "delta_regressii_1.round(4)"
   ]
  },
  {
   "cell_type": "markdown",
   "metadata": {},
   "source": [
    " p_value стремится к нулю => отвергаем H_0, т е регрессия значима"
   ]
  },
  {
   "cell_type": "markdown",
   "metadata": {},
   "source": [
    "## k) Bootstrap "
   ]
  },
  {
   "cell_type": "code",
   "execution_count": 49,
   "metadata": {},
   "outputs": [
    {
     "name": "stdout",
     "output_type": "stream",
     "text": [
      "(50, 1)\n",
      "(50,)\n"
     ]
    },
    {
     "data": {
      "text/plain": [
       "(50, 5)"
      ]
     },
     "execution_count": 49,
     "metadata": {},
     "output_type": "execute_result"
    }
   ],
   "source": [
    "yy = np.zeros((n,1))\n",
    "for i in range(n):\n",
    "    yy[i] = y[i]\n",
    "print(np.shape(yy))\n",
    "print(np.shape(y))\n",
    "np.shape(ksi)\n"
   ]
  },
  {
   "cell_type": "code",
   "execution_count": 50,
   "metadata": {},
   "outputs": [
    {
     "data": {
      "text/plain": [
       "array([-0.45846772, -0.55298886, -0.50868755, -0.4954669 , -0.49000748,\n",
       "       -0.4497889 ,  0.0464712 , -0.13124495, -0.19986102, -0.31281279,\n",
       "       -0.60982399, -0.39243532, -0.61496128, -0.32932607, -0.30156565,\n",
       "       -0.63041817, -0.58619482, -0.41836498, -0.62274146, -0.43203953,\n",
       "       -0.27504177, -0.56913363,  0.10789054, -0.6427311 , -0.64357103,\n",
       "       -0.64243595, -0.56667165, -0.53401763, -0.44301571, -0.62861472,\n",
       "       -0.50887088, -0.25779956, -0.52580529, -0.38785065, -0.23146438,\n",
       "       -0.48127854,  0.03511482, -0.27941206, -0.19499438, -0.08263885,\n",
       "       -0.13737734, -0.5519014 , -0.39511131, -0.64755085, -0.33676413,\n",
       "       -0.37361477, -0.13706916, -0.2631183 , -0.48785686, -0.61155346,\n",
       "       -0.61086984, -0.34950226, -0.3031685 , -0.55382637, -0.63195672,\n",
       "       -0.33708465, -0.59318348, -0.12053368, -0.25344748, -0.42216236,\n",
       "       -0.55015879, -0.47669419, -0.51392764, -0.57534828, -0.58237112,\n",
       "       -0.38746732, -0.61009634, -0.23078623, -0.50587316, -0.08539732,\n",
       "       -0.47872423, -0.54735392, -0.32631844, -0.57099412, -0.66982522,\n",
       "       -0.57611568, -0.46546337, -0.30798236, -0.64624991, -0.64731106,\n",
       "       -0.3019804 , -0.71798052, -0.58954195, -0.49787436, -0.19457334,\n",
       "       -0.64096011, -0.30879599, -0.6164947 , -0.46805721, -0.59770499,\n",
       "       -0.51233634, -0.21915141, -0.13528053, -0.51970917, -0.66329114,\n",
       "       -0.2505649 , -0.41318293, -0.15741424, -0.53600921, -0.51154663,\n",
       "       -0.2497822 , -0.19394155, -0.56943286, -0.31193871,  0.05092533,\n",
       "       -0.06231403, -0.54967404, -0.43994235, -0.53586454, -0.35970122,\n",
       "       -0.31620235, -0.45030128, -0.49954694, -0.37598385, -0.66953457,\n",
       "       -0.23408973, -0.30772435, -0.21840249, -0.37223466, -0.30308555,\n",
       "       -0.38724936, -0.29280502, -0.48571786, -0.42957578, -0.4003616 ,\n",
       "       -0.46012173, -0.6587965 , -0.4151563 , -0.65964667, -0.24885462,\n",
       "       -0.21297377, -0.70467033, -0.32858355, -0.19314646, -0.56632018,\n",
       "       -0.27714767, -0.41003294, -0.50640574,  0.04830253, -0.64701686,\n",
       "       -0.19943966, -0.46963177, -0.3141376 , -0.61476307, -0.22260629,\n",
       "       -0.39379651, -0.13374737, -0.28981333, -0.42169105, -0.32541611,\n",
       "       -0.53872082, -0.17266367, -0.43221966, -0.47099621, -0.60068373,\n",
       "       -0.49864271, -0.33064218, -0.57011848, -0.58558862, -0.17803414,\n",
       "       -0.45989547, -0.43564042, -0.60212247, -0.61186784, -0.63588889,\n",
       "       -0.65230278, -0.58542304, -0.48529915, -0.65071249, -0.13292784,\n",
       "       -0.20504597, -0.33777869, -0.36933985, -0.59183679, -0.6569341 ,\n",
       "       -0.73121965, -0.64830581, -0.58954659, -0.43496215, -0.64563512,\n",
       "       -0.49078286, -0.54906442, -0.61357089, -0.2996063 , -0.1777359 ,\n",
       "       -0.38560283, -0.61744769, -0.37331076, -0.59659845, -0.3382019 ,\n",
       "       -0.49782936, -0.57909845, -0.30599597, -0.44089843, -0.20464905,\n",
       "       -0.34479011, -0.18474615, -0.38720915, -0.18412599, -0.64326562,\n",
       "       -0.55813716, -0.41239137, -0.70104373, -0.367801  , -0.64533906,\n",
       "       -0.29313946, -0.72467882, -0.46772271, -0.3755565 , -0.47233234,\n",
       "       -0.40734379, -0.69577825, -0.60729267, -0.50290729, -0.43668966,\n",
       "       -0.50404426, -0.42365888, -0.49623976, -0.57659599, -0.63558479,\n",
       "       -0.25246559, -0.45554777, -0.48909271, -0.54508827, -0.60902532,\n",
       "       -0.19480199, -0.6828118 , -0.38997872, -0.05137261, -0.51397056,\n",
       "       -0.51486163, -0.45891368, -0.24880862, -0.57145118, -0.39992746,\n",
       "       -0.01682612, -0.76077892, -0.40320176, -0.20171863, -0.46387425,\n",
       "       -0.44198858, -0.5114934 , -0.4464115 , -0.45592193, -0.44862268,\n",
       "       -0.49298633, -0.47303546, -0.5803093 , -0.67467247, -0.28899399,\n",
       "       -0.58948336, -0.452819  , -0.58365545, -0.38665508, -0.52295627,\n",
       "       -0.41314173, -0.40797114, -0.3430144 , -0.6544253 , -0.52522582,\n",
       "       -0.14245263, -0.68749633, -0.51367568, -0.09435078, -0.60873312,\n",
       "       -0.47999364, -0.40263679, -0.27183092, -0.32347031, -0.49363063,\n",
       "       -0.44103345, -0.41930748, -0.53088336, -0.39975904, -0.33409893,\n",
       "       -0.16145124, -0.45046891, -0.65240335, -0.58205199, -0.62487153,\n",
       "       -0.43833578, -0.63161707, -0.47235388, -0.51402613, -0.64180903,\n",
       "       -0.34960475, -0.67701701, -0.60800507, -0.46798979, -0.5502463 ,\n",
       "       -0.50225272, -0.39066209, -0.39710186, -0.39580905, -0.51375302,\n",
       "       -0.31653992, -0.58230808, -0.25544533, -0.32267612, -0.32104765,\n",
       "       -0.28441722, -0.57450515, -0.44939462, -0.18483184, -0.29332832,\n",
       "       -0.6271662 , -0.38271385,  0.07085686, -0.21956614, -0.35361549,\n",
       "       -0.70607063, -0.49691971, -0.59393544, -0.36199576, -0.26842099,\n",
       "       -0.43892244, -0.49077711, -0.48659585, -0.54824351, -0.64834774,\n",
       "       -0.56848205, -0.75011616, -0.40971295, -0.34811803, -0.52091121,\n",
       "       -0.57578279, -0.52374412, -0.61790369, -0.48897258, -0.40979291,\n",
       "       -0.59569642, -0.15546271, -0.38550961, -0.28931918, -0.52841716,\n",
       "       -0.08934408, -0.49530454, -0.16921345, -0.37372955, -0.63443584,\n",
       "       -0.55789835, -0.31912945, -0.11833937, -0.51163421, -0.35473087,\n",
       "       -0.48868085, -0.33863658, -0.29598882, -0.39523815, -0.49990424,\n",
       "       -0.59216849, -0.13959339, -0.43151633, -0.53659911, -0.53747201,\n",
       "       -0.2674948 , -0.51582848, -0.51598236, -0.45517445, -0.1357808 ,\n",
       "       -0.51631441, -0.69260249, -0.57225275, -0.34511636, -0.6722557 ,\n",
       "       -0.79260756, -0.48586329, -0.25467293, -0.33688132, -0.66169182,\n",
       "       -0.34651274, -0.1863168 , -0.64137951, -0.58376925, -0.05249098,\n",
       "       -0.60688302, -0.28415438, -0.52464691, -0.48009023, -0.44866019,\n",
       "       -0.55509148, -0.34807082, -0.48744233, -0.57778523, -0.2827087 ,\n",
       "       -0.11424827, -0.66353477, -0.5635449 , -0.35433892, -0.38119448,\n",
       "       -0.63430969, -0.53055441, -0.46747638, -0.38903702, -0.35633713,\n",
       "       -0.4002584 , -0.3619121 , -0.58367483, -0.51163024, -0.12534605,\n",
       "       -0.52785371, -0.66672026, -0.52914166, -0.62187984, -0.23583838,\n",
       "       -0.18984545, -0.70397387, -0.53155113, -0.18983417, -0.56567283,\n",
       "       -0.4158832 , -0.37747514, -0.42174261, -0.41369796, -0.31395963,\n",
       "       -0.48208763, -0.32839441, -0.25695505, -0.35691605, -0.54254068,\n",
       "       -0.60154379, -0.46260352, -0.62897806, -0.37133534, -0.50577167,\n",
       "       -0.43234549,  0.03343011, -0.40580847, -0.57200526, -0.54151926,\n",
       "       -0.54303364, -0.57028443, -0.33781237, -0.5123222 , -0.23130421,\n",
       "       -0.52030792, -0.56614556, -0.49059975, -0.64076934, -0.43624914,\n",
       "       -0.74588962, -0.32247533, -0.25450319, -0.66556102, -0.14545428,\n",
       "       -0.59365256, -0.6436441 , -0.50934666, -0.34776047, -0.27783882,\n",
       "       -0.43456348, -0.34853648, -0.6727954 , -0.50683938, -0.51104197,\n",
       "       -0.15549006, -0.40102828, -0.67595618, -0.5657895 , -0.39947519,\n",
       "       -0.55294753, -0.43448435, -0.52061349, -0.49924647, -0.06820878,\n",
       "       -0.38311527, -0.56967352, -0.68622539, -0.55159326, -0.41882835,\n",
       "       -0.47316471, -0.37907273, -0.21483492, -0.14790813, -0.45574443,\n",
       "       -0.60243083, -0.38025155, -0.52579296, -0.38351009, -0.60966798,\n",
       "       -0.54935516, -0.2617999 , -0.6460091 , -0.64620531, -0.52782449,\n",
       "       -0.6237726 , -0.5776267 , -0.67699884, -0.5368504 , -0.57282129,\n",
       "       -0.4230685 , -0.39748785, -0.64214668, -0.44689173, -0.30651715,\n",
       "       -0.27753796, -0.43891436, -0.58564142, -0.46085026, -0.67142834,\n",
       "       -0.02045635, -0.1973901 , -0.60346202, -0.5385312 , -0.63515085,\n",
       "       -0.1485136 , -0.40378316, -0.55229941, -0.27334839, -0.33999862,\n",
       "       -0.13780593, -0.57005891, -0.70882567, -0.53608284, -0.39945539,\n",
       "       -0.26578115, -0.3467634 , -0.55971334, -0.59136286, -0.51766381,\n",
       "       -0.50189387, -0.49747682, -0.4764944 , -0.65626548, -0.07785695,\n",
       "       -0.4847552 , -0.62748159, -0.49136417, -0.51992702, -0.52704326,\n",
       "       -0.79928038, -0.6582101 , -0.51774199, -0.65845205, -0.39179275,\n",
       "       -0.43137661, -0.31374987, -0.11556789, -0.29234359, -0.50734917,\n",
       "       -0.50004556, -0.61069517, -0.47503562, -0.40553808, -0.75969192,\n",
       "       -0.53853297, -0.49266344, -0.65205322, -0.35345857, -0.19817587,\n",
       "       -0.44723947, -0.59889924, -0.5768888 , -0.38587751, -0.51981806,\n",
       "       -0.34284737, -0.26458433, -0.24926261, -0.43459815, -0.11037901,\n",
       "       -0.33545544, -0.48626842, -0.54216866, -0.69642478, -0.47970658,\n",
       "       -0.55818231, -0.46831493, -0.50956809, -0.19710083, -0.7083891 ,\n",
       "       -0.40460395, -0.10707122, -0.65404854, -0.47785717, -0.6645928 ,\n",
       "       -0.34759181, -0.31737928, -0.55487253, -0.42064192, -0.44235981,\n",
       "       -0.55381235, -0.34325156, -0.23640433, -0.40307389, -0.65737217,\n",
       "       -0.52575695, -0.33417115, -0.32426238, -0.68420996, -0.1596511 ,\n",
       "       -0.58143347, -0.44057096, -0.74142571, -0.71142324, -0.61055738,\n",
       "       -0.28172648, -0.40834143, -0.54719602, -0.61859803, -0.36395765,\n",
       "       -0.5137674 , -0.56958161, -0.29776004, -0.27046875, -0.10132396,\n",
       "       -0.49384648,  0.00890893, -0.56567624, -0.53340368, -0.11681309,\n",
       "       -0.51406282, -0.05087667, -0.71878266, -0.52081885, -0.33526919,\n",
       "       -0.30190568, -0.55777134, -0.24141309, -0.53177502, -0.0269643 ,\n",
       "       -0.04699636, -0.39837307, -0.48359057, -0.20688651, -0.52743923,\n",
       "       -0.25412101, -0.69815487, -0.30695535, -0.2062615 , -0.68282653,\n",
       "       -0.57850744, -0.5956667 , -0.67860241, -0.3971551 , -0.37311764,\n",
       "       -0.51893191, -0.53441981, -0.5863252 , -0.68742377, -0.39552155,\n",
       "       -0.64009897, -0.63898838, -0.50368468, -0.39975109, -0.30093593,\n",
       "       -0.36152944, -0.69804976, -0.64007955, -0.622209  , -0.43566813,\n",
       "       -0.56332099, -0.15725337, -0.36815272, -0.44277136, -0.47743044,\n",
       "       -0.18428071, -0.38974763, -0.48086421, -0.62647893, -0.44720905,\n",
       "       -0.20004031, -0.62825176, -0.61407573, -0.32183288, -0.40025826,\n",
       "       -0.19380973, -0.64227595, -0.54965734, -0.62425966, -0.38911289,\n",
       "       -0.09576301, -0.32641957, -0.09552626, -0.71603661, -0.51638149,\n",
       "       -0.54214298, -0.55088111, -0.28147358, -0.72851844, -0.57373881,\n",
       "       -0.30990575, -0.20003692, -0.52231437, -0.27236045, -0.4620499 ,\n",
       "       -0.27916292, -0.32293123, -0.42589361, -0.67342306, -0.18333822,\n",
       "       -0.25941182, -0.60742922, -0.44530395, -0.13777292, -0.66438025,\n",
       "       -0.28018895, -0.59774882, -0.4511903 , -0.0872017 , -0.25363349,\n",
       "       -0.62721167, -0.58505348, -0.47352465, -0.60280605, -0.41094941,\n",
       "       -0.53190149, -0.52093182, -0.70764314, -0.49527645, -0.56774417,\n",
       "        0.02856843, -0.49712053, -0.44395875, -0.38944938, -0.57842931,\n",
       "       -0.57005447, -0.68705557, -0.006472  , -0.5816588 , -0.48528246,\n",
       "       -0.41839892, -0.38816098, -0.22701687, -0.40701895, -0.61651862,\n",
       "       -0.65812916, -0.57548652, -0.24433919, -0.33579193, -0.18507812,\n",
       "       -0.58639697, -0.27361337, -0.54993748, -0.30266406, -0.36078947,\n",
       "       -0.17652963, -0.41817569, -0.6506375 , -0.17305906, -0.31808476,\n",
       "       -0.23039419, -0.59943423, -0.62880753, -0.41264949, -0.6731758 ,\n",
       "       -0.01100044, -0.70247337, -0.29298614, -0.61905165, -0.47030555,\n",
       "       -0.41020166, -0.69370912, -0.19319756, -0.57325566, -0.3903797 ,\n",
       "       -0.70259739, -0.23366289, -0.63030058, -0.49740184, -0.36289253,\n",
       "       -0.52951135, -0.52862115, -0.37703993, -0.57576982, -0.66177105,\n",
       "       -0.26701542, -0.34504014, -0.43633418, -0.55666812, -0.56874938,\n",
       "       -0.28999393, -0.50232748, -0.61550853, -0.51216265, -0.71833658,\n",
       "       -0.52593943, -0.69020042, -0.68408343, -0.26128445, -0.55765249,\n",
       "       -0.23293497, -0.44098854, -0.73725063, -0.59747399, -0.40188975,\n",
       "       -0.55014505, -0.26135266, -0.61729402, -0.33623776, -0.5319918 ,\n",
       "       -0.30419168, -0.52826557, -0.10225268, -0.40829776, -0.58776757,\n",
       "       -0.63000295, -0.59854107, -0.19266833, -0.38542027, -0.17513271,\n",
       "       -0.25908436, -0.69381132, -0.21370246, -0.34398846, -0.5708713 ,\n",
       "       -0.32936468, -0.31613738, -0.36050454, -0.40447832, -0.50303798,\n",
       "       -0.34075322, -0.35522806, -0.53941768, -0.54025552, -0.56740322,\n",
       "       -0.39276427, -0.38921665, -0.4865203 , -0.70737464, -0.3928666 ,\n",
       "       -0.53305105, -0.08749128, -0.38884748, -0.09739333, -0.20905794,\n",
       "       -0.26424657, -0.31564422, -0.52861789, -0.34044124, -0.37853619,\n",
       "       -0.30162984, -0.56199436, -0.50773957, -0.70218218, -0.73208751,\n",
       "       -0.35154679, -0.67261545, -0.59156434, -0.28006162, -0.52935582,\n",
       "       -0.3354085 , -0.44884143, -0.47730577, -0.60029462, -0.5099508 ,\n",
       "       -0.50828977, -0.65520251, -0.27815011, -0.18104304, -0.38506691,\n",
       "       -0.58174171, -0.64243662, -0.64237474, -0.61264028,  0.0940535 ,\n",
       "       -0.55126092, -0.48544932, -0.58250726, -0.4101917 , -0.41848303,\n",
       "       -0.65026789, -0.76394827, -0.59296486, -0.47616666, -0.41411479,\n",
       "       -0.58246521, -0.71258389, -0.38288272, -0.50753105, -0.53439594,\n",
       "       -0.31778921, -0.52321345, -0.58182446, -0.46368348, -0.35139144,\n",
       "       -0.29530799, -0.52292838, -0.44664054, -0.45337789, -0.54258955,\n",
       "       -0.60530789, -0.29888945, -0.43346652, -0.6242973 , -0.54885565,\n",
       "       -0.71219139, -0.61667496, -0.50510924, -0.61967396, -0.68814856,\n",
       "       -0.33578113, -0.37334683, -0.34853869, -0.46201131, -0.55759559,\n",
       "       -0.60044923, -0.6816191 , -0.51544313, -0.26078159, -0.52938804,\n",
       "       -0.54774159, -0.75959638, -0.42339524, -0.2390628 , -0.49316247,\n",
       "       -0.52985865, -0.65143814, -0.31420162, -0.22111945, -0.366535  ,\n",
       "       -0.59900942, -0.05618088, -0.63999182, -0.35350497, -0.32561247,\n",
       "       -0.58895112, -0.48894773, -0.60734902, -0.47855766, -0.49066709,\n",
       "       -0.68285148, -0.38064399, -0.54218978, -0.43707809, -0.22435046,\n",
       "        0.10355082, -0.5373248 , -0.37549768, -0.74371199, -0.55635892,\n",
       "       -0.4547329 , -0.39613365, -0.60736731, -0.40440259, -0.26703166,\n",
       "       -0.55296232, -0.57337848, -0.73505003, -0.4014157 ,  0.02709888,\n",
       "       -0.03374312, -0.61246557, -0.63814244, -0.57988433, -0.33393579,\n",
       "       -0.56165325, -0.31205189, -0.50298294, -0.51379951, -0.1752869 ,\n",
       "       -0.22671358, -0.45537448, -0.12029866, -0.63337446, -0.45402272,\n",
       "       -0.44733942, -0.48749804, -0.29955665, -0.16606885, -0.59725004,\n",
       "       -0.68122647, -0.36806582, -0.5795334 , -0.53506048, -0.12941625,\n",
       "       -0.48953164, -0.24997021, -0.28255755, -0.0861825 , -0.56338269,\n",
       "       -0.31172425, -0.39446576, -0.30898771, -0.74230694, -0.32527903,\n",
       "       -0.36811515, -0.681641  , -0.68285436, -0.45196605, -0.56722923,\n",
       "       -0.4944701 , -0.48155854, -0.26798218, -0.46693463, -0.5113789 ,\n",
       "       -0.49018178, -0.63496717, -0.19889875, -0.73076129, -0.53822858,\n",
       "       -0.50175504, -0.51325438, -0.68118791, -0.05353082, -0.52715612,\n",
       "       -0.35810343, -0.55751225, -0.550288  , -0.57186208, -0.17464133])"
      ]
     },
     "execution_count": 50,
     "metadata": {},
     "output_type": "execute_result"
    }
   ],
   "source": [
    "deltas_star = np.zeros(1000)\n",
    "for k in range(1000):\n",
    "    X_Y = np.zeros((n, 6))\n",
    "    ksi_y = np.hstack((yy,ksi))\n",
    "    for i in range(n):\n",
    "        X_Y[i] = random.choices(ksi_y[i], k=6)\n",
    "        \n",
    "    model_k = LinearRegression()\n",
    "    model_k.fit(X_Y[:, 1:], X_Y[:, 0])\n",
    "\n",
    "    r_sq_k = model_k.score(X_Y[:, 1:], X_Y[:, 0])\n",
    "    \n",
    "    \n",
    "    model_k1 = LinearRegression()\n",
    "    ksi_k1 = np.delete(ksi,3,1)\n",
    "    y_k1 = np.zeros(n)\n",
    "    for i in range(n):\n",
    "        y_k1[i] = 2 + 3 * ksi_k1[i, 0] - 2* ksi_k1[i, 1] + ksi_k1[i, 2] - ksi_k1[i, 3]\n",
    "        y_k1[i] = np.random.normal(y_k1[i], 1.5)\n",
    "    model_k1.fit(ksi_k1, y_k1)\n",
    "\n",
    "    r_sq_k1 = model_k1.score(ksi_k1, y_k1)\n",
    "    deltas_star[k] = r_sq_k - r_sq_k1\n",
    "deltas_star    "
   ]
  },
  {
   "cell_type": "code",
   "execution_count": 51,
   "metadata": {},
   "outputs": [
    {
     "data": {
      "image/png": "[encoded data removed]",
      "text/plain": [
       "<Figure size 432x288 with 1 Axes>"
      ]
     },
     "metadata": {
      "needs_background": "light"
     },
     "output_type": "display_data"
    }
   ],
   "source": [
    "deltas_star = sorted(deltas_star)\n",
    "n, bins, patches = plt.hist(deltas_star, 200, density = 1, facecolor = 'r', alpha = 1)"
   ]
  },
  {
   "cell_type": "code",
   "execution_count": 52,
   "metadata": {},
   "outputs": [
    {
     "data": {
      "text/plain": [
       "0.0977"
      ]
     },
     "execution_count": 52,
     "metadata": {},
     "output_type": "execute_result"
    }
   ],
   "source": [
    "delta = r_sq - r_sq_1\n",
    "delta.round(4)"
   ]
  },
  {
   "cell_type": "markdown",
   "metadata": {},
   "source": [
    "так как deltas_star < 0, то H1 отвергаем сразу, значит нет оснований отвергнуть Н0. Те усложнение модели не оправдано"
   ]
  },
  {
   "cell_type": "code",
   "execution_count": null,
   "metadata": {},
   "outputs": [],
   "source": []
  }
 ],
 "metadata": {
  "kernelspec": {
   "display_name": "Python 3",
   "language": "python",
   "name": "python3"
  },
  "language_info": {
   "codemirror_mode": {
    "name": "ipython",
    "version": 3
   },
   "file_extension": ".py",
   "mimetype": "text/x-python",
   "name": "python",
   "nbconvert_exporter": "python",
   "pygments_lexer": "ipython3",
   "version": "3.8.8"
  }
 },
 "nbformat": 4,
 "nbformat_minor": 2
}
