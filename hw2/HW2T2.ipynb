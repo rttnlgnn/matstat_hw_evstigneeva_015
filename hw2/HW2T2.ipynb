{
 "cells": [
  {
   "cell_type": "code",
   "execution_count": 1,
   "metadata": {},
   "outputs": [],
   "source": [
    "import numpy as np\n",
    "import random\n",
    "import copy\n",
    "import matplotlib.pyplot as plt\n",
    "from sklearn.linear_model import LinearRegression"
   ]
  },
  {
   "cell_type": "code",
   "execution_count": 2,
   "metadata": {},
   "outputs": [
    {
     "data": {
      "text/plain": [
       "array([[1., 1., 0., 0., 0., 0., 0., 0., 0., 0., 0., 0., 0., 0., 0., 0.,\n",
       "        0., 0., 0., 0., 0., 0., 0., 0., 0.],\n",
       "       [0., 0., 1., 1., 1., 1., 1., 1., 0., 0., 0., 0., 0., 0., 0., 0.,\n",
       "        0., 0., 0., 0., 0., 0., 0., 0., 0.],\n",
       "       [0., 0., 0., 0., 0., 0., 0., 0., 1., 1., 1., 1., 1., 1., 1., 1.,\n",
       "        1., 1., 1., 0., 0., 0., 0., 0., 0.],\n",
       "       [0., 0., 0., 0., 0., 0., 0., 0., 0., 0., 0., 0., 0., 0., 0., 0.,\n",
       "        0., 0., 0., 1., 1., 1., 1., 0., 0.],\n",
       "       [0., 0., 0., 0., 0., 0., 0., 0., 0., 0., 0., 0., 0., 0., 0., 0.,\n",
       "        0., 0., 0., 0., 0., 0., 0., 1., 1.]])"
      ]
     },
     "execution_count": 2,
     "metadata": {},
     "output_type": "execute_result"
    }
   ],
   "source": [
    "KSI = np.zeros((5, 25))\n",
    "KSI[0,:2] = 1 \n",
    "KSI[1,2:8] = 1 \n",
    "KSI[2,8:19] = 1 \n",
    "KSI[3,19:23] = 1 \n",
    "KSI[4,23:] = 1 \n",
    "KSI"
   ]
  },
  {
   "cell_type": "code",
   "execution_count": 3,
   "metadata": {},
   "outputs": [],
   "source": [
    "Y = np.array([83, 85, 84, 85, 85, 86, 86, 87, 86, 87, 87, 87, 88, 88, 88, 88, 88, 89, 90, 89, 90, 90, 91, 90, 92])"
   ]
  },
  {
   "cell_type": "code",
   "execution_count": 4,
   "metadata": {},
   "outputs": [
    {
     "data": {
      "text/plain": [
       "LinearRegression(fit_intercept=False)"
      ]
     },
     "execution_count": 4,
     "metadata": {},
     "output_type": "execute_result"
    }
   ],
   "source": [
    "model = LinearRegression(fit_intercept=False)\n",
    "model.fit(KSI.T,Y.T)"
   ]
  },
  {
   "cell_type": "code",
   "execution_count": 5,
   "metadata": {},
   "outputs": [
    {
     "data": {
      "text/plain": [
       "array([84.        , 85.5       , 87.81818182, 90.        , 91.        ])"
      ]
     },
     "execution_count": 5,
     "metadata": {},
     "output_type": "execute_result"
    }
   ],
   "source": [
    "b = model.coef_\n",
    "b"
   ]
  },
  {
   "cell_type": "code",
   "execution_count": 6,
   "metadata": {},
   "outputs": [
    {
     "name": "stdout",
     "output_type": "stream",
     "text": [
      "[[ 2.  0.  0.  0.  0.]\n",
      " [ 0.  6.  0.  0.  0.]\n",
      " [ 0.  0. 11.  0.  0.]\n",
      " [ 0.  0.  0.  4.  0.]\n",
      " [ 0.  0.  0.  0.  2.]]\n"
     ]
    },
    {
     "data": {
      "text/plain": [
       "array([0.5       , 0.16666667, 0.09090909, 0.25      , 0.5       ])"
      ]
     },
     "execution_count": 6,
     "metadata": {},
     "output_type": "execute_result"
    }
   ],
   "source": [
    "F = KSI @ KSI.T    # матрица Фишера\n",
    "print(F)\n",
    "F_1 = np.linalg.inv(F)    # обратная матрица Фишера\n",
    "fii = np.array([0.,0.,0.,0.,0.])\n",
    "for i in range(5):    \n",
    "    fii[i] = F_1[i,i] \n",
    "fii    # диагональные эл-ты м Фишера"
   ]
  },
  {
   "cell_type": "code",
   "execution_count": 7,
   "metadata": {},
   "outputs": [
    {
     "name": "stdout",
     "output_type": "stream",
     "text": [
      "R_sq =  0.8106060606060606\n",
      "TSS =  122.16\n",
      "RSS =  23.136363636363644\n"
     ]
    },
    {
     "data": {
      "text/plain": [
       "array([110.44898546, 194.719384  , 270.79973244, 167.35548556,\n",
       "       119.65306758])"
      ]
     },
     "execution_count": 7,
     "metadata": {},
     "output_type": "execute_result"
    }
   ],
   "source": [
    "n = 25\n",
    "r_sq = model.score(KSI.T, Y.T)    # коэф детерминации\n",
    "print(\"R_sq = \", r_sq)\n",
    "TSS = 0     # дисперсия откликов\n",
    "for i in range(n):\n",
    "    TSS += (Y[i] - Y.mean())**2\n",
    "\n",
    "print(\"TSS = \",TSS)\n",
    "\n",
    "RSS = (1 - r_sq) * TSS  # остаточная сумма квадратов\n",
    "print(\"RSS = \", RSS)\n",
    "\n",
    "# проверка значимости коэф-тов\n",
    "delta = np.array([0.,0.,0.,0.,0.])\n",
    "for i in range(5):\n",
    "    delta[i] = b[i] * (n-5)**0.5 / ((RSS * fii[i] ) ** 0.5)\n",
    "\n",
    "delta    \n",
    "\n"
   ]
  },
  {
   "cell_type": "markdown",
   "metadata": {},
   "source": [
    "H0 отвергаем, значит все коэф-ты значимы"
   ]
  },
  {
   "cell_type": "code",
   "execution_count": 8,
   "metadata": {},
   "outputs": [
    {
     "data": {
      "text/plain": [
       "21.39999999999999"
      ]
     },
     "execution_count": 8,
     "metadata": {},
     "output_type": "execute_result"
    }
   ],
   "source": [
    "delta_regressii = (r_sq / (1-r_sq) )* ((n-5) / (5-1))\n",
    "delta_regressii"
   ]
  },
  {
   "cell_type": "markdown",
   "metadata": {},
   "source": [
    "критическое значение F(5, 19) = 2.18 - > регрессия значима"
   ]
  },
  {
   "cell_type": "markdown",
   "metadata": {},
   "source": [
    "## b)"
   ]
  },
  {
   "cell_type": "code",
   "execution_count": 9,
   "metadata": {},
   "outputs": [
    {
     "data": {
      "text/plain": [
       "array([[0.        , 1.70806477, 4.61810408, 6.44151564, 6.50826888],\n",
       "       [0.        , 0.        , 4.24680627, 6.48165008, 6.26290416],\n",
       "       [0.        , 0.        , 0.        , 3.47429517, 3.84842007],\n",
       "       [0.        , 0.        , 0.        , 0.        , 1.07358594],\n",
       "       [0.        , 0.        , 0.        , 0.        , 0.        ]])"
      ]
     },
     "execution_count": 9,
     "metadata": {},
     "output_type": "execute_result"
    }
   ],
   "source": [
    "delta = np.zeros((5, 5))\n",
    "for i in range(5):\n",
    "    for j in range(i+1, 5):\n",
    "        delta[i,j] = (b[j] - b[i])/(RSS*(fii[i] + fii[j]))**0.5 *(20)**0.5\n",
    "        \n",
    "delta"
   ]
  },
  {
   "cell_type": "markdown",
   "metadata": {},
   "source": [
    "d = 2.1 - критическая точка t(20)"
   ]
  },
  {
   "cell_type": "markdown",
   "metadata": {},
   "source": [
    "значит 1-2, 4-5 одинаковые группы"
   ]
  },
  {
   "cell_type": "code",
   "execution_count": null,
   "metadata": {},
   "outputs": [],
   "source": []
  }
 ],
 "metadata": {
  "kernelspec": {
   "display_name": "Python 3",
   "language": "python",
   "name": "python3"
  },
  "language_info": {
   "codemirror_mode": {
    "name": "ipython",
    "version": 3
   },
   "file_extension": ".py",
   "mimetype": "text/x-python",
   "name": "python",
   "nbconvert_exporter": "python",
   "pygments_lexer": "ipython3",
   "version": "3.8.8"
  }
 },
 "nbformat": 4,
 "nbformat_minor": 2
}
